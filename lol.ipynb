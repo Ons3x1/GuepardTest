{
 "cells": [
  {
   "cell_type": "code",
   "execution_count": 179,
   "metadata": {},
   "outputs": [],
   "source": [
    "import json"
   ]
  },
  {
   "cell_type": "code",
   "execution_count": 180,
   "metadata": {},
   "outputs": [],
   "source": [
    "# Open and load the JSON file\n",
    "with open(\"generated.json\", \"r\", encoding=\"utf-8\") as file:\n",
    "    data = json.load(file)  # Load JSON data as a Python dictionary"
   ]
  },
  {
   "cell_type": "code",
   "execution_count": 181,
   "metadata": {},
   "outputs": [
    {
     "data": {
      "text/plain": [
       "list"
      ]
     },
     "execution_count": 181,
     "metadata": {},
     "output_type": "execute_result"
    }
   ],
   "source": [
    "type(data)"
   ]
  },
  {
   "cell_type": "code",
   "execution_count": 182,
   "metadata": {},
   "outputs": [
    {
     "data": {
      "text/plain": [
       "dict"
      ]
     },
     "execution_count": 182,
     "metadata": {},
     "output_type": "execute_result"
    }
   ],
   "source": [
    "type(data[0])"
   ]
  },
  {
   "cell_type": "markdown",
   "metadata": {},
   "source": [
    "# Manipulation des données"
   ]
  },
  {
   "cell_type": "markdown",
   "metadata": {},
   "source": [
    "### Dictionnaire"
   ]
  },
  {
   "cell_type": "code",
   "execution_count": 108,
   "metadata": {},
   "outputs": [],
   "source": [
    "months = {\"janvier\": 31, \"février\": 28, \"mars\": 31, True: \"Oui ca marche\"}"
   ]
  },
  {
   "cell_type": "code",
   "execution_count": 109,
   "metadata": {},
   "outputs": [
    {
     "name": "stdout",
     "output_type": "stream",
     "text": [
      "janvier 31\n",
      "février 28\n",
      "mars 31\n",
      "True Oui ca marche\n"
     ]
    }
   ],
   "source": [
    "for k,v in months.items():\n",
    "    print(str(k)+ ' ' +str(v))"
   ]
  },
  {
   "cell_type": "code",
   "execution_count": 110,
   "metadata": {},
   "outputs": [
    {
     "data": {
      "text/plain": [
       "{'C': 1, 'C++': 3, 'Python': 6, 'Perl': 4, 'Java': 4, 'Visual Basic': 12}"
      ]
     },
     "execution_count": 110,
     "metadata": {},
     "output_type": "execute_result"
    }
   ],
   "source": [
    "L = [\"C\", \"C++\", \"Python\", \"Perl\", \"Java\", \"Visual Basic\"]\n",
    "dict = { x:len(x) for x in L}\n",
    "dict"
   ]
  },
  {
   "cell_type": "code",
   "execution_count": 111,
   "metadata": {},
   "outputs": [
    {
     "data": {
      "text/plain": [
       "{0: 0, -1: 1, -2: 4, -3: 9, -4: 16, -5: 25, -6: 36, -7: 49, -8: 64, -9: 81}"
      ]
     },
     "execution_count": 111,
     "metadata": {},
     "output_type": "execute_result"
    }
   ],
   "source": [
    "initial = { x:x**2 for x in range(10)}\n",
    "dictFinal = { -x:x2 for x,x2 in initial.items() }\n",
    "dictFinal"
   ]
  },
  {
   "cell_type": "code",
   "execution_count": 112,
   "metadata": {},
   "outputs": [],
   "source": [
    "months = {\"janvier\": 31, \"février\": 28, \"mars\": 31, \"avril\": 30}\n",
    "keyList = sorted(months)\n",
    "valList = sorted(months.values())"
   ]
  },
  {
   "cell_type": "markdown",
   "metadata": {},
   "source": []
  },
  {
   "cell_type": "code",
   "execution_count": 113,
   "metadata": {},
   "outputs": [],
   "source": [
    "months.update({'lol':0})"
   ]
  },
  {
   "cell_type": "code",
   "execution_count": 114,
   "metadata": {},
   "outputs": [
    {
     "data": {
      "text/plain": [
       "{'janvier': 31, 'février': 28, 'mars': 31, 'avril': 30, 'lol': 0}"
      ]
     },
     "execution_count": 114,
     "metadata": {},
     "output_type": "execute_result"
    }
   ],
   "source": [
    "months"
   ]
  },
  {
   "cell_type": "code",
   "execution_count": 115,
   "metadata": {},
   "outputs": [],
   "source": [
    "months[\"hello\"] = 'yo yo'"
   ]
  },
  {
   "cell_type": "code",
   "execution_count": 116,
   "metadata": {},
   "outputs": [
    {
     "data": {
      "text/plain": [
       "'yo yo'"
      ]
     },
     "execution_count": 116,
     "metadata": {},
     "output_type": "execute_result"
    }
   ],
   "source": [
    "months.pop('hello')"
   ]
  },
  {
   "cell_type": "code",
   "execution_count": 117,
   "metadata": {},
   "outputs": [
    {
     "data": {
      "text/plain": [
       "{'janvier': 31, 'février': 28, 'mars': 31, 'avril': 30, 'lol': 0}"
      ]
     },
     "execution_count": 117,
     "metadata": {},
     "output_type": "execute_result"
    }
   ],
   "source": [
    "months"
   ]
  },
  {
   "cell_type": "code",
   "execution_count": 118,
   "metadata": {},
   "outputs": [],
   "source": [
    "del months['janvier']"
   ]
  },
  {
   "cell_type": "code",
   "execution_count": 119,
   "metadata": {},
   "outputs": [
    {
     "data": {
      "text/plain": [
       "{'février': 28, 'mars': 31, 'avril': 30, 'lol': 0}"
      ]
     },
     "execution_count": 119,
     "metadata": {},
     "output_type": "execute_result"
    }
   ],
   "source": [
    "months"
   ]
  },
  {
   "cell_type": "code",
   "execution_count": 120,
   "metadata": {},
   "outputs": [],
   "source": [
    "#delet all the dict \n",
    "#months.clear()"
   ]
  },
  {
   "cell_type": "code",
   "execution_count": 121,
   "metadata": {},
   "outputs": [
    {
     "data": {
      "text/plain": [
       "4"
      ]
     },
     "execution_count": 121,
     "metadata": {},
     "output_type": "execute_result"
    }
   ],
   "source": [
    "len(months)"
   ]
  },
  {
   "cell_type": "code",
   "execution_count": 122,
   "metadata": {},
   "outputs": [],
   "source": [
    "months.get(\"janvier\")"
   ]
  },
  {
   "cell_type": "markdown",
   "metadata": {},
   "source": [
    "### Keys:"
   ]
  },
  {
   "cell_type": "code",
   "execution_count": 123,
   "metadata": {},
   "outputs": [
    {
     "name": "stdout",
     "output_type": "stream",
     "text": [
      "février\n",
      "mars\n",
      "avril\n",
      "lol\n"
     ]
    }
   ],
   "source": [
    "for x in months:\n",
    "    print(x)"
   ]
  },
  {
   "cell_type": "code",
   "execution_count": 124,
   "metadata": {},
   "outputs": [
    {
     "name": "stdout",
     "output_type": "stream",
     "text": [
      "février\n",
      "mars\n",
      "avril\n",
      "lol\n"
     ]
    }
   ],
   "source": [
    "for x in months.keys():\n",
    "    print(x)"
   ]
  },
  {
   "cell_type": "code",
   "execution_count": 125,
   "metadata": {},
   "outputs": [
    {
     "name": "stdout",
     "output_type": "stream",
     "text": [
      "28\n",
      "31\n",
      "30\n",
      "0\n"
     ]
    }
   ],
   "source": [
    "for x in months.values():\n",
    "    print(x)"
   ]
  },
  {
   "cell_type": "code",
   "execution_count": null,
   "metadata": {},
   "outputs": [],
   "source": []
  },
  {
   "cell_type": "markdown",
   "metadata": {},
   "source": [
    "### Liste:"
   ]
  },
  {
   "cell_type": "code",
   "execution_count": 126,
   "metadata": {},
   "outputs": [
    {
     "name": "stdout",
     "output_type": "stream",
     "text": [
      "Nombre actuel : 0.2\n",
      "Nombre actuel : 0.2\n",
      "Nombre actuel : 0.4\n",
      "Nombre actuel : 0.6\n",
      "Nombre actuel : 1.0\n",
      "Nombre actuel : 1.6\n",
      "Nombre actuel : 2.6\n"
     ]
    }
   ],
   "source": [
    "numbers = [1, 1, 2, 3, 5, 8, 13]\n",
    "for elem in numbers:\n",
    "  print('Nombre actuel :', elem*20/100)"
   ]
  },
  {
   "cell_type": "code",
   "execution_count": 127,
   "metadata": {},
   "outputs": [
    {
     "name": "stdout",
     "output_type": "stream",
     "text": [
      "1\n",
      "1\n",
      "3\n",
      "5\n",
      "13\n"
     ]
    }
   ],
   "source": [
    "for i in numbers:\n",
    "    if i%2==1:\n",
    "        print(i)\n"
   ]
  },
  {
   "cell_type": "code",
   "execution_count": 128,
   "metadata": {},
   "outputs": [],
   "source": [
    "numbers.append(7)"
   ]
  },
  {
   "cell_type": "code",
   "execution_count": 129,
   "metadata": {},
   "outputs": [
    {
     "data": {
      "text/plain": [
       "[1, 1, 2, 3, 5, 8, 13, 7]"
      ]
     },
     "execution_count": 129,
     "metadata": {},
     "output_type": "execute_result"
    }
   ],
   "source": [
    "numbers"
   ]
  },
  {
   "cell_type": "code",
   "execution_count": 101,
   "metadata": {},
   "outputs": [
    {
     "name": "stdout",
     "output_type": "stream",
     "text": [
      "1\n",
      "1\n",
      "2\n",
      "3\n",
      "5\n",
      "8\n",
      "13\n",
      "7\n"
     ]
    }
   ],
   "source": [
    "for i in range(len(numbers)):\n",
    "    print(numbers[i])"
   ]
  },
  {
   "cell_type": "code",
   "execution_count": 139,
   "metadata": {},
   "outputs": [
    {
     "data": {
      "text/plain": [
       "{'C': 1, 'C++': 3, 'Python': 6, 'Perl': 4, 'Java': 4, 'Visual Basic': 12}"
      ]
     },
     "execution_count": 139,
     "metadata": {},
     "output_type": "execute_result"
    }
   ],
   "source": [
    "dict"
   ]
  },
  {
   "cell_type": "code",
   "execution_count": 140,
   "metadata": {},
   "outputs": [
    {
     "data": {
      "text/plain": [
       "dict"
      ]
     },
     "execution_count": 140,
     "metadata": {},
     "output_type": "execute_result"
    }
   ],
   "source": [
    "type(dict)"
   ]
  },
  {
   "cell_type": "code",
   "execution_count": 146,
   "metadata": {},
   "outputs": [
    {
     "name": "stdout",
     "output_type": "stream",
     "text": [
      "0 1\n",
      "1 1\n",
      "2 2\n",
      "3 3\n",
      "4 5\n",
      "5 8\n",
      "6 13\n",
      "7 7\n"
     ]
    }
   ],
   "source": [
    "for x,y in enumerate(numbers):\n",
    "    print(x,y)"
   ]
  },
  {
   "cell_type": "code",
   "execution_count": 148,
   "metadata": {},
   "outputs": [
    {
     "data": {
      "text/plain": [
       "{'C': 1, 'C++': 3, 'Python': 6, 'Perl': 4, 'Java': 4, 'Visual Basic': 12}"
      ]
     },
     "execution_count": 148,
     "metadata": {},
     "output_type": "execute_result"
    }
   ],
   "source": [
    "dict"
   ]
  },
  {
   "cell_type": "code",
   "execution_count": 147,
   "metadata": {},
   "outputs": [
    {
     "name": "stdout",
     "output_type": "stream",
     "text": [
      "0 C\n",
      "1 C++\n",
      "2 Python\n",
      "3 Perl\n",
      "4 Java\n",
      "5 Visual Basic\n"
     ]
    }
   ],
   "source": [
    "for x,y in enumerate(dict):\n",
    "    print(x,y)"
   ]
  },
  {
   "cell_type": "code",
   "execution_count": 150,
   "metadata": {},
   "outputs": [
    {
     "name": "stdout",
     "output_type": "stream",
     "text": [
      "0: C -> 1\n",
      "1: C++ -> 3\n",
      "2: Python -> 6\n",
      "3: Perl -> 4\n",
      "4: Java -> 4\n",
      "5: Visual Basic -> 12\n"
     ]
    }
   ],
   "source": [
    "for i, (key, value) in enumerate(dict.items()):\n",
    "    print(f\"{i}: {key} -> {value}\")"
   ]
  },
  {
   "cell_type": "code",
   "execution_count": 155,
   "metadata": {},
   "outputs": [
    {
     "name": "stdout",
     "output_type": "stream",
     "text": [
      "0 3\n",
      "1 4\n",
      "2 5\n",
      "3 0\n"
     ]
    }
   ],
   "source": [
    "for x, y in enumerate(nums):\n",
    "    print(x,y)"
   ]
  },
  {
   "cell_type": "code",
   "execution_count": 174,
   "metadata": {},
   "outputs": [],
   "source": [
    "nums = [3, 1, 5, 0, 4]\n",
    "target = 7"
   ]
  },
  {
   "cell_type": "code",
   "execution_count": 175,
   "metadata": {},
   "outputs": [],
   "source": [
    "def two_sum(nums, target):\n",
    "    dict = {}\n",
    "    for i, num in enumerate(nums):\n",
    "        complement = target - num\n",
    "        if complement in dict:\n",
    "            return(i, dict[complement])\n",
    "        else:\n",
    "            dict[num] = i\n",
    "    return(None)\n"
   ]
  },
  {
   "cell_type": "code",
   "execution_count": 176,
   "metadata": {},
   "outputs": [
    {
     "name": "stdout",
     "output_type": "stream",
     "text": [
      "(4, 0)\n"
     ]
    }
   ],
   "source": [
    "print(two_sum(nums,target))"
   ]
  },
  {
   "cell_type": "markdown",
   "metadata": {},
   "source": [
    "# Serious"
   ]
  },
  {
   "cell_type": "code",
   "execution_count": 195,
   "metadata": {},
   "outputs": [],
   "source": [
    "import json"
   ]
  },
  {
   "cell_type": "code",
   "execution_count": 196,
   "metadata": {},
   "outputs": [],
   "source": [
    "# Open and load the JSON file\n",
    "with open(\"generated.json\", \"r\", encoding=\"utf-8\") as file:\n",
    "    data = json.load(file)  # Load JSON data as a Python dictionary"
   ]
  },
  {
   "cell_type": "code",
   "execution_count": 212,
   "metadata": {},
   "outputs": [
    {
     "data": {
      "text/plain": [
       "list"
      ]
     },
     "execution_count": 212,
     "metadata": {},
     "output_type": "execute_result"
    }
   ],
   "source": [
    "type(data)"
   ]
  },
  {
   "cell_type": "code",
   "execution_count": 208,
   "metadata": {},
   "outputs": [
    {
     "name": "stdout",
     "output_type": "stream",
     "text": [
      "{'_id': '67a368a25946a49bfc456848', 'index': 0, 'guid': '568a38c5-bc7e-4959-9033-2af3e2a98e12', 'isActive': False, 'balance': '$2,453.57', 'picture': 'http://placehold.it/32x32', 'age': 25, 'eyeColor': 'brown', 'name': 'Nadine Hayes', 'gender': 'female', 'company': 'FITCORE', 'email': 'nadinehayes@fitcore.com', 'phone': '+1 (806) 538-2505', 'address': '602 Visitation Place, Romeville, Connecticut, 4719', 'about': 'Duis anim ut sunt quis sunt. Culpa amet consequat incididunt nulla pariatur duis. Occaecat quis dolor esse eu dolore ullamco quis sunt irure laboris fugiat excepteur ea adipisicing. Nisi laboris pariatur adipisicing nisi ex.\\r\\n', 'registered': '2017-05-19T06:20:25 -02:00', 'latitude': 6.875997, 'longitude': -90.060083, 'tags': ['tempor', 'nisi', 'voluptate', 'exercitation', 'occaecat', 'consequat', 'adipisicing'], 'friends': [{'id': 0, 'name': 'Cathy Berry'}, {'id': 1, 'name': 'Sandy Wilcox'}, {'id': 2, 'name': 'Gamble Phelps'}], 'greeting': 'Hello, Nadine Hayes! You have 8 unread messages.', 'favoriteFruit': 'strawberry'}\n"
     ]
    }
   ],
   "source": [
    "print((data[0]))"
   ]
  },
  {
   "cell_type": "code",
   "execution_count": 224,
   "metadata": {},
   "outputs": [
    {
     "data": {
      "text/plain": [
       "'67a368a25946a49bfc456848'"
      ]
     },
     "execution_count": 224,
     "metadata": {},
     "output_type": "execute_result"
    }
   ],
   "source": [
    "data[0]['_id']"
   ]
  },
  {
   "cell_type": "code",
   "execution_count": 229,
   "metadata": {},
   "outputs": [],
   "source": [
    "# Recursive function to parse JSON data\n",
    "def traverse_json(obj, indent=0):\n",
    "    dict = {}\n",
    "    if isinstance(obj, list):\n",
    "        for i, elem in enumerate(obj):\n",
    "            dict[i] = elem\n",
    "    return(dict)"
   ]
  },
  {
   "cell_type": "code",
   "execution_count": 234,
   "metadata": {},
   "outputs": [],
   "source": [
    "dict = traverse_json(data)"
   ]
  },
  {
   "cell_type": "code",
   "execution_count": 236,
   "metadata": {},
   "outputs": [
    {
     "data": {
      "text/plain": [
       "{'_id': '67a368a266d13667a3a12656',\n",
       " 'index': 3,\n",
       " 'guid': '5233f52c-39c1-4897-bc90-463861953289',\n",
       " 'isActive': True,\n",
       " 'balance': '$3,040.72',\n",
       " 'picture': 'http://placehold.it/32x32',\n",
       " 'age': 24,\n",
       " 'eyeColor': 'green',\n",
       " 'name': 'Candice Griffith',\n",
       " 'gender': 'female',\n",
       " 'company': 'OPTICOM',\n",
       " 'email': 'candicegriffith@opticom.com',\n",
       " 'phone': '+1 (829) 441-2775',\n",
       " 'address': '433 Senator Street, Wells, Delaware, 6533',\n",
       " 'about': 'Amet duis amet ullamco dolore magna anim. Amet aliquip nostrud ut cillum minim. Non tempor exercitation excepteur commodo non cupidatat aliquip pariatur magna duis nostrud. Qui adipisicing exercitation non ullamco quis consectetur sint id. Exercitation eu ipsum nulla cupidatat veniam.\\r\\n',\n",
       " 'registered': '2018-10-01T12:55:11 -02:00',\n",
       " 'latitude': 62.862059,\n",
       " 'longitude': 15.162468,\n",
       " 'tags': ['labore',\n",
       "  'dolor',\n",
       "  'irure',\n",
       "  'culpa',\n",
       "  'voluptate',\n",
       "  'dolore',\n",
       "  'consequat'],\n",
       " 'friends': [{'id': 0, 'name': 'Christy Ramos'},\n",
       "  {'id': 1, 'name': 'Rhonda Clemons'},\n",
       "  {'id': 2, 'name': 'Nicole Sherman'}],\n",
       " 'greeting': 'Hello, Candice Griffith! You have 3 unread messages.',\n",
       " 'favoriteFruit': 'apple'}"
      ]
     },
     "execution_count": 236,
     "metadata": {},
     "output_type": "execute_result"
    }
   ],
   "source": [
    "dict[3]"
   ]
  },
  {
   "cell_type": "code",
   "execution_count": null,
   "metadata": {},
   "outputs": [],
   "source": []
  },
  {
   "cell_type": "markdown",
   "metadata": {},
   "source": [
    "# POO"
   ]
  },
  {
   "cell_type": "code",
   "execution_count": 237,
   "metadata": {},
   "outputs": [],
   "source": [
    "class Node:\n",
    "    def __init__(self, data, next_node=None):\n",
    "        self.data = data\n",
    "        self.next_node = next_node\n",
    "\n",
    "    def get_data(self):\n",
    "        return self.data\n",
    "\n",
    "    def get_next(self):\n",
    "        return self.next_node\n",
    "\n",
    "    def set_next(self, new_next):\n",
    "        self.next_node = new_next\n"
   ]
  },
  {
   "cell_type": "code",
   "execution_count": 238,
   "metadata": {},
   "outputs": [],
   "source": [
    "class LinkedList:\n",
    "    def __init__(self, root=None):\n",
    "        self.root = root\n",
    "        self.size = 0\n",
    "\n",
    "    def get_size(self):\n",
    "        return self.size\n",
    "\n",
    "    def add(self, data):\n",
    "        new_node = Node(data, self.root)  # Create a new node pointing to the current root\n",
    "        self.root = new_node  # Update the root to the new node\n",
    "        self.size += 1  # Increment the size of the list\n",
    "\n",
    "    def remove(self, data):\n",
    "        this_node = self.root\n",
    "        prev_node = None\n",
    "\n",
    "        while this_node:  # Traverse the list\n",
    "            if this_node.get_data() == data:  # Found the data\n",
    "                if prev_node:  # If not the root node\n",
    "                    prev_node.set_next(this_node.get_next())  # Remove the current node\n",
    "                else:  # If it is the root node\n",
    "                    self.root = this_node.get_next()  # Update the root\n",
    "                self.size -= 1  # Decrement the size of the list\n",
    "                return True  # Data removed successfully\n",
    "            else:\n",
    "                prev_node = this_node  # Move to the next node\n",
    "                this_node = this_node.get_next()\n",
    "\n",
    "        return False  # Data not found\n",
    "    def find(self, d):\n",
    "        this_node = self.root\n",
    "        while this_node:\n",
    "            if this_node.data == d:\n",
    "                return d\n",
    "            else:\n",
    "                this_node = this_node.get_next()\n",
    "        return Node\n",
    "                "
   ]
  },
  {
   "cell_type": "code",
   "execution_count": 284,
   "metadata": {},
   "outputs": [],
   "source": [
    "class Produit:\n",
    "    def __init__(self, p, n, t):\n",
    "        self.__price = p #private\n",
    "        self._name = n #protected\n",
    "        self.taille = t #public\n",
    "\n",
    "    def get_size(self):\n",
    "        return(self.taille)\n",
    "    \n",
    "    def get_price(self):\n",
    "        return(self.__price)"
   ]
  },
  {
   "cell_type": "code",
   "execution_count": 285,
   "metadata": {},
   "outputs": [],
   "source": [
    "P1 = Produit(18, 'Lait', 'L')"
   ]
  },
  {
   "cell_type": "code",
   "execution_count": 286,
   "metadata": {},
   "outputs": [
    {
     "data": {
      "text/plain": [
       "'L'"
      ]
     },
     "execution_count": 286,
     "metadata": {},
     "output_type": "execute_result"
    }
   ],
   "source": [
    "P1.taille"
   ]
  },
  {
   "cell_type": "code",
   "execution_count": 287,
   "metadata": {},
   "outputs": [
    {
     "data": {
      "text/plain": [
       "'Lait'"
      ]
     },
     "execution_count": 287,
     "metadata": {},
     "output_type": "execute_result"
    }
   ],
   "source": [
    "P1._name"
   ]
  },
  {
   "cell_type": "code",
   "execution_count": 288,
   "metadata": {},
   "outputs": [
    {
     "ename": "AttributeError",
     "evalue": "'Produit' object has no attribute '__price'",
     "output_type": "error",
     "traceback": [
      "\u001b[1;31m---------------------------------------------------------------------------\u001b[0m",
      "\u001b[1;31mAttributeError\u001b[0m                            Traceback (most recent call last)",
      "Cell \u001b[1;32mIn[288], line 1\u001b[0m\n\u001b[1;32m----> 1\u001b[0m P1\u001b[38;5;241m.\u001b[39m__price\n",
      "\u001b[1;31mAttributeError\u001b[0m: 'Produit' object has no attribute '__price'"
     ]
    }
   ],
   "source": [
    "P1.__price"
   ]
  },
  {
   "cell_type": "code",
   "execution_count": 267,
   "metadata": {},
   "outputs": [
    {
     "data": {
      "text/plain": [
       "'L'"
      ]
     },
     "execution_count": 267,
     "metadata": {},
     "output_type": "execute_result"
    }
   ],
   "source": [
    "P1.get_size()"
   ]
  },
  {
   "cell_type": "code",
   "execution_count": null,
   "metadata": {},
   "outputs": [],
   "source": []
  },
  {
   "cell_type": "code",
   "execution_count": null,
   "metadata": {},
   "outputs": [],
   "source": []
  },
  {
   "cell_type": "markdown",
   "metadata": {},
   "source": [
    "# Encapsulation\n",
    "private, protected & public"
   ]
  },
  {
   "cell_type": "markdown",
   "metadata": {},
   "source": [
    "# Heritage\n",
    "child class & parent class"
   ]
  },
  {
   "cell_type": "markdown",
   "metadata": {},
   "source": [
    "# Polymorphism\n",
    "redefining methods"
   ]
  },
  {
   "cell_type": "markdown",
   "metadata": {},
   "source": [
    "# Abstraction\n",
    "classes that cannot be instantiated"
   ]
  },
  {
   "cell_type": "markdown",
   "metadata": {},
   "source": [
    "static methods"
   ]
  },
  {
   "cell_type": "markdown",
   "metadata": {},
   "source": [
    "# Problem Solving"
   ]
  },
  {
   "cell_type": "code",
   "execution_count": 292,
   "metadata": {},
   "outputs": [
    {
     "data": {
      "text/plain": [
       "{'id': 1,\n",
       " 'name': 'Alice Johnson',\n",
       " 'age': 28,\n",
       " 'email': 'alice@example.com',\n",
       " 'purchase_history': [{'item': 'Laptop', 'amount': 1200},\n",
       "  {'item': 'Mouse', 'amount': 25}],\n",
       " 'location': {'city': 'New York', 'country': 'USA'},\n",
       " 'membership': 'Gold'}"
      ]
     },
     "execution_count": 292,
     "metadata": {},
     "output_type": "execute_result"
    }
   ],
   "source": [
    "data[0]"
   ]
  },
  {
   "cell_type": "code",
   "execution_count": 79,
   "metadata": {},
   "outputs": [],
   "source": [
    "# Encapsulation\n",
    "class Customer:\n",
    "    def __init__(self, id, name, age, email, purchase_history, location, membership,  ):\n",
    "        self.__id = id\n",
    "        self.__name = name\n",
    "        self.__age = age\n",
    "        self.__email = email\n",
    "        self.__city = location['city']\n",
    "        self.__country = location['country']\n",
    "        self.__location = location\n",
    "        self.__membership = membership\n",
    "        self.__purchase_history = purchase_history\n",
    "\n",
    "    def get_id(self):\n",
    "        return(self.__id)\n",
    "    \n",
    "    def get_location(self):\n",
    "        return(self.__location)\n",
    "    \n",
    "    def get_name(self):\n",
    "        return(self.__name)\n",
    "    \n",
    "    def get_age(self):\n",
    "        return(self.__age)\n",
    "    \n",
    "    def get_email(self):\n",
    "        return(self.__email)\n",
    "    \n",
    "    def get_city(self):\n",
    "        return(self.__city)\n",
    "    \n",
    "    def get_membership(self):\n",
    "        return(self.__membership)\n",
    "    \n",
    "    def get_total_spent(self):  \n",
    "        return sum(item[\"amount\"] for item in self.__purchase_history)  \n"
   ]
  },
  {
   "cell_type": "code",
   "execution_count": 81,
   "metadata": {},
   "outputs": [],
   "source": [
    "class PremiumCustomer(Customer):\n",
    "    def get_total_spent(self): \n",
    "        return super().get_total_spent() * 0.9 \n"
   ]
  },
  {
   "cell_type": "markdown",
   "metadata": {},
   "source": [
    " Design an Abstract CustomerProcessor Class (Abstraction)\n",
    "Use an abstract class CustomerProcessor with a method process_data().\n",
    "Implement this method in subclasses."
   ]
  },
  {
   "cell_type": "code",
   "execution_count": 82,
   "metadata": {},
   "outputs": [],
   "source": [
    "from abc import ABC, abstractmethod\n",
    "\n",
    "class CustomerProcessor(ABC):\n",
    "    @abstractmethod\n",
    "    def process_data(self):\n",
    "        pass"
   ]
  },
  {
   "cell_type": "code",
   "execution_count": 83,
   "metadata": {},
   "outputs": [],
   "source": [
    "import json"
   ]
  },
  {
   "cell_type": "code",
   "execution_count": 84,
   "metadata": {},
   "outputs": [],
   "source": [
    "# Open and load the JSON file\n",
    "with open(\"data.json\", \"r\", encoding=\"utf-8\") as file:\n",
    "    data = json.load(file)  # Load JSON data as a Python dictionary"
   ]
  },
  {
   "cell_type": "code",
   "execution_count": 85,
   "metadata": {},
   "outputs": [
    {
     "data": {
      "text/plain": [
       "[{'id': 1,\n",
       "  'name': 'Alice Johnson',\n",
       "  'age': 28,\n",
       "  'email': 'alice@example.com',\n",
       "  'purchase_history': [{'item': 'Laptop', 'amount': 1200},\n",
       "   {'item': 'Mouse', 'amount': 25}],\n",
       "  'location': {'city': 'New York', 'country': 'USA'},\n",
       "  'membership': 'Gold'},\n",
       " {'id': 2,\n",
       "  'name': 'Bob Smith',\n",
       "  'age': 35,\n",
       "  'email': 'bob@example.com',\n",
       "  'purchase_history': [{'item': 'Phone', 'amount': 800},\n",
       "   {'item': 'Headphones', 'amount': 100}],\n",
       "  'location': {'city': 'Los Angeles', 'country': 'USA'},\n",
       "  'membership': 'Silver'}]"
      ]
     },
     "execution_count": 85,
     "metadata": {},
     "output_type": "execute_result"
    }
   ],
   "source": [
    "data"
   ]
  },
  {
   "cell_type": "code",
   "execution_count": 86,
   "metadata": {},
   "outputs": [],
   "source": [
    "# read Json and convert to customer objects\n",
    "def load_customers(filename):\n",
    "    with open(filename, \"r\", encoding=\"utf-8\") as file:\n",
    "        data = json.load(file)  # Load JSON data as a Python dictionary\n",
    "\n",
    "    customers = []\n",
    "    for entry in data:\n",
    "        \n",
    "        if entry['membership'] == 'Gold':   \n",
    "            customers.append(PremiumCustomer(**entry))\n",
    "        else:\n",
    "            customers.append(Customer(**entry))\n",
    "    return customers"
   ]
  },
  {
   "cell_type": "code",
   "execution_count": 87,
   "metadata": {},
   "outputs": [],
   "source": [
    "import pandas as pd"
   ]
  },
  {
   "cell_type": "code",
   "execution_count": 88,
   "metadata": {},
   "outputs": [],
   "source": [
    "def customers_dataframe(customers):\n",
    "    df = []\n",
    "    for customer in customers:\n",
    "        df.append({\n",
    "            'ID' : customer.get_id(),\n",
    "            \"Name\": customer.get_name(),\n",
    "            \"Age\": customer.get_age(),\n",
    "            \"Email\": customer.get_email(),\n",
    "            \"City\": customer.get_location()[\"city\"],\n",
    "            \"Country\": customer.get_location()[\"country\"],\n",
    "            \"Membership\": customer.get_membership(),\n",
    "            \"Total Spent\": round(customer.get_total_spent(), 2)\n",
    "            \n",
    "            \n",
    "\n",
    "\n",
    "        })\n",
    "    return(df)"
   ]
  },
  {
   "cell_type": "code",
   "execution_count": 89,
   "metadata": {},
   "outputs": [],
   "source": [
    "customers = load_customers('data.json')\n",
    "df = customers_dataframe(customers)"
   ]
  },
  {
   "cell_type": "code",
   "execution_count": 90,
   "metadata": {},
   "outputs": [
    {
     "data": {
      "text/plain": [
       "[{'ID': 1,\n",
       "  'Name': 'Alice Johnson',\n",
       "  'Age': 28,\n",
       "  'Email': 'alice@example.com',\n",
       "  'City': 'New York',\n",
       "  'Country': 'USA',\n",
       "  'Membership': 'Gold',\n",
       "  'Total Spent': 1102.5},\n",
       " {'ID': 2,\n",
       "  'Name': 'Bob Smith',\n",
       "  'Age': 35,\n",
       "  'Email': 'bob@example.com',\n",
       "  'City': 'Los Angeles',\n",
       "  'Country': 'USA',\n",
       "  'Membership': 'Silver',\n",
       "  'Total Spent': 900}]"
      ]
     },
     "execution_count": 90,
     "metadata": {},
     "output_type": "execute_result"
    }
   ],
   "source": [
    "df"
   ]
  },
  {
   "cell_type": "code",
   "execution_count": null,
   "metadata": {},
   "outputs": [],
   "source": []
  },
  {
   "cell_type": "code",
   "execution_count": null,
   "metadata": {},
   "outputs": [],
   "source": []
  }
 ],
 "metadata": {
  "kernelspec": {
   "display_name": "base",
   "language": "python",
   "name": "python3"
  },
  "language_info": {
   "codemirror_mode": {
    "name": "ipython",
    "version": 3
   },
   "file_extension": ".py",
   "mimetype": "text/x-python",
   "name": "python",
   "nbconvert_exporter": "python",
   "pygments_lexer": "ipython3",
   "version": "3.12.4"
  }
 },
 "nbformat": 4,
 "nbformat_minor": 2
}
